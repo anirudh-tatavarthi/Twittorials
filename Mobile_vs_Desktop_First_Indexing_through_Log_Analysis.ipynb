{
  "nbformat": 4,
  "nbformat_minor": 0,
  "metadata": {
    "colab": {
      "name": "Mobile vs Desktop First Indexing through Log Analysis",
      "provenance": [],
      "collapsed_sections": [],
      "authorship_tag": "ABX9TyMGz0RJgq4c2eM57eSFoEQ7",
      "include_colab_link": true
    },
    "kernelspec": {
      "name": "python3",
      "display_name": "Python 3"
    }
  },
  "cells": [
    {
      "cell_type": "markdown",
      "metadata": {
        "id": "view-in-github",
        "colab_type": "text"
      },
      "source": [
        "<a href=\"https://colab.research.google.com/github/anirudh-tatavarthi/Twittorials/blob/master/Mobile_vs_Desktop_First_Indexing_through_Log_Analysis.ipynb\" target=\"_parent\"><img src=\"https://colab.research.google.com/assets/colab-badge.svg\" alt=\"Open In Colab\"/></a>"
      ]
    },
    {
      "cell_type": "markdown",
      "metadata": {
        "id": "9fqUMF98DeHK",
        "colab_type": "text"
      },
      "source": [
        "## Using this script, you can determine whether your site has shifted to mobile first indexing or not by viewing the exact ratio of desktop:mobile Googlebot user  agents. "
      ]
    },
    {
      "cell_type": "markdown",
      "metadata": {
        "id": "90L_SUtTDw6X",
        "colab_type": "text"
      },
      "source": [
        "\"Yes, we render pages with both desktop & mobile user-agents. Usually it's something like a 2-3:1 split, so when we shift to mobile first indexing for a domain, it's 2/3rd mobile, 1/3rd desktop (the numbers aren't fix, it's just what I commonly see)\" - **John Mueller, Senior Webmaster Trends Analyst at Google**"
      ]
    },
    {
      "cell_type": "code",
      "metadata": {
        "id": "wXfyPBiSwHc7",
        "colab_type": "code",
        "colab": {}
      },
      "source": [
        "%%capture\n",
        "#importing the necessary libraries for the script\n",
        "import matplotlib.pyplot as plt\n",
        "from google.colab import files"
      ],
      "execution_count": null,
      "outputs": []
    },
    {
      "cell_type": "markdown",
      "metadata": {
        "id": "zAZSyEnlGzkC",
        "colab_type": "text"
      },
      "source": [
        "**Step 1:** The code below will prompt you to choose a file from your computer. Choose a download of your web logs."
      ]
    },
    {
      "cell_type": "code",
      "metadata": {
        "id": "CHpx7Gjrx8HL",
        "colab_type": "code",
        "colab": {}
      },
      "source": [
        "#prompts user to choose a file\n",
        "uploaded = files.upload()\n",
        "\n",
        "#reads the name of the file\n",
        "for fn in uploaded.keys():\n",
        "  file_name = fn"
      ],
      "execution_count": null,
      "outputs": []
    },
    {
      "cell_type": "markdown",
      "metadata": {
        "id": "2uCY_q8jHGb8",
        "colab_type": "text"
      },
      "source": [
        "**Step 2:** Created two sets, one containing the user agent names for desktop and one containing the user agent names for mobile.\n"
      ]
    },
    {
      "cell_type": "code",
      "metadata": {
        "id": "s0nvfvC3weTU",
        "colab_type": "code",
        "colab": {}
      },
      "source": [
        "#create two sets containing the names of the desktop and mobile crawlers\n",
        "desktop_ua = set()\n",
        "smartphone_ua = set()\n",
        "\n",
        "#add the desktop user agents\n",
        "desktop_ua.add(\"Mozilla/5.0 (compatible; Googlebot/2.1; +http://www.google.com/bot.html)\")\n",
        "desktop_ua.add(\"Mozilla/5.0 AppleWebKit/537.36 (KHTML, like Gecko; compatible; Googlebot/2.1; +http://www.google.com/bot.html)\")\n",
        "desktop_ua.add(\"Googlebot/2.1 (+http://www.google.com/bot.html)\") #rarely used\n",
        "\n",
        "#add the mobile user agents\n",
        "smartphone_ua.add(\"Mozilla/5.0 (Linux; Android 6.0.1; Nexus 5X Build/MMB29P) AppleWebKit/537.36 (KHTML, like Gecko)\")\n",
        "\n",
        "desktop_count = 0\n",
        "mobile_count = 0"
      ],
      "execution_count": null,
      "outputs": []
    },
    {
      "cell_type": "markdown",
      "metadata": {
        "id": "z2FLMRyMKnSW",
        "colab_type": "text"
      },
      "source": [
        "**Step 3:** The next bit of code will analyze your logs and count the number of desktop vs mobile user agents to plot a pie chart displaying the ratio."
      ]
    },
    {
      "cell_type": "code",
      "metadata": {
        "id": "Gjb0cC7XKB3h",
        "colab_type": "code",
        "colab": {}
      },
      "source": [
        "#parse for the user agent string in the log and determine whether it is mobile or desktop\n",
        "with open(file_name) as f:\n",
        "  for row in f:\n",
        "    start = row.find(\"Mozilla/5.0\")\n",
        "    #\"ua\" is the name of the user agent\n",
        "    ua = row[start:len(row)]\n",
        "    #checks if the user agent is either mobile or desktop\n",
        "    for ua in desktop_ua:\n",
        "      if row.find(ua)!=-1:\n",
        "        desktop_count+=1\n",
        "    for ua in smartphone_ua:\n",
        "      if row.find(ua)!=-1:\n",
        "        mobile_count+=1\n",
        "\n",
        "#print the count for both user agents\n",
        "print(\"Desktop user agent count: \" + str(desktop_count))\n",
        "print(\"Mobile user agent count: \" + str(mobile_count))\n",
        "\n",
        "#Store the labels of the pie chart along with the count\n",
        "labels = 'Desktop', 'Mobile'\n",
        "index_percent = [desktop_count, mobile_count]\n",
        "\n",
        "#create and show the pie chart\n",
        "fig1, ax1 = plt.subplots()\n",
        "ax1.pie(index_percent, labels=labels, autopct='%1.1f%%',\n",
        "        shadow=True, startangle=90)\n",
        "ax1.axis('equal')\n",
        "\n",
        "plt.show()\n",
        "\n",
        "#Is your site mobile or desktop indexing?\n",
        "if(desktop_count<mobile_count):\n",
        "  print(\"Your site has shifted to mobile first indexing\")\n",
        "else:\n",
        "  print(\"Your site has not shifted to mobile first indexing\")\n",
        "\n",
        "desktop_count = 0\n",
        "mobile_count = 0  "
      ],
      "execution_count": null,
      "outputs": []
    },
    {
      "cell_type": "markdown",
      "metadata": {
        "id": "aiclG3wAHg-B",
        "colab_type": "text"
      },
      "source": [
        "**Note:** If your site has shifted to mobile first indexing, take a look at the ratio and determine whether it is close to the 2-3:1 split."
      ]
    }
  ]
}